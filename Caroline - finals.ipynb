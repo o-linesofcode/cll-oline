{
 "cells": [
  {
   "cell_type": "markdown",
   "id": "af322152-8744-4b1a-af45-820df03cd5e3",
   "metadata": {},
   "source": [
    "# CLL Finals - Letter Friendship Bracelets"
   ]
  },
  {
   "cell_type": "code",
   "execution_count": 1,
   "id": "20e42c58-3657-43b2-800b-ab24c079f8d7",
   "metadata": {},
   "outputs": [
    {
     "name": "stdout",
     "output_type": "stream",
     "text": [
      "Collecting https://cdn.evilmadscientist.com/dl/ad/public/AxiDraw_API.zip\n",
      "  Using cached https://cdn.evilmadscientist.com/dl/ad/public/AxiDraw_API.zip (382 kB)\n",
      "  Installing build dependencies ... \u001b[?2done\n",
      "\u001b[?25h  Getting requirements to build wheel ... \u001b[?25ldone\n",
      "\u001b[?25h  Preparing metadata (pyproject.toml) ... \u001b[?25ldone\n",
      "\u001b[?25hProcessing /private/var/folders/hn/9gstvl9x339_z9qt0l3mrr9m0000gp/T/pip-req-build-glskg_u_/prebuilt_dependencies/axidrawinternal-3.9.6-py2.py3-none-any.whl (from axicli==3.9.6)\n",
      "Requirement already satisfied: ink_extensions>=1.3.2 in /Library/Frameworks/Python.framework/Versions/3.13/lib/python3.13/site-packages (from axicli==3.9.6) (2.1.0)\n",
      "Requirement already satisfied: lxml>=4.9.3 in /Library/Frameworks/Python.framework/Versions/3.13/lib/python3.13/site-packages (from axicli==3.9.6) (5.3.1)\n",
      "Requirement already satisfied: plotink>=1.8.0 in /Library/Frameworks/Python.framework/Versions/3.13/lib/python3.13/site-packages (from axicli==3.9.6) (1.11.3)\n",
      "Requirement already satisfied: pyserial>=3.5 in /Library/Frameworks/Python.framework/Versions/3.13/lib/python3.13/site-packages (from axicli==3.9.6) (3.5)\n",
      "Requirement already satisfied: requests in /Library/Frameworks/Python.framework/Versions/3.13/lib/python3.13/site-packages (from axicli==3.9.6) (2.32.3)\n",
      "Requirement already satisfied: mpmath>=1.3.0 in /Library/Frameworks/Python.framework/Versions/3.13/lib/python3.13/site-packages (from plotink>=1.8.0->axicli==3.9.6) (1.3.0)\n",
      "Requirement already satisfied: packaging>=21.0 in /Library/Frameworks/Python.framework/Versions/3.13/lib/python3.13/site-packages (from plotink>=1.8.0->axicli==3.9.6) (24.2)\n",
      "Requirement already satisfied: pyclipper>=1.1.0 in /Library/Frameworks/Python.framework/Versions/3.13/lib/python3.13/site-packages (from axidrawinternal@ file:///private/var/folders/hn/9gstvl9x339_z9qt0l3mrr9m0000gp/T/pip-req-build-glskg_u_/prebuilt_dependencies/axidrawinternal-3.9.6-py2.py3-none-any.whl->axicli==3.9.6) (1.3.0.post6)\n",
      "Requirement already satisfied: tqdm>=4.64.0 in /Library/Frameworks/Python.framework/Versions/3.13/lib/python3.13/site-packages (from axidrawinternal@ file:///private/var/folders/hn/9gstvl9x339_z9qt0l3mrr9m0000gp/T/pip-req-build-glskg_u_/prebuilt_dependencies/axidrawinternal-3.9.6-py2.py3-none-any.whl->axicli==3.9.6) (4.67.1)\n",
      "Requirement already satisfied: charset-normalizer<4,>=2 in /Library/Frameworks/Python.framework/Versions/3.13/lib/python3.13/site-packages (from requests->axicli==3.9.6) (3.4.1)\n",
      "Requirement already satisfied: idna<4,>=2.5 in /Library/Frameworks/Python.framework/Versions/3.13/lib/python3.13/site-packages (from requests->axicli==3.9.6) (3.10)\n",
      "Requirement already satisfied: urllib3<3,>=1.21.1 in /Library/Frameworks/Python.framework/Versions/3.13/lib/python3.13/site-packages (from requests->axicli==3.9.6) (2.3.0)\n",
      "Requirement already satisfied: certifi>=2017.4.17 in /Library/Frameworks/Python.framework/Versions/3.13/lib/python3.13/site-packages (from requests->axicli==3.9.6) (2025.1.31)\n",
      "axidrawinternal is already installed with the same version as the provided wheel. Use --force-reinstall to force an installation of the wheel.\n",
      "\n",
      "\u001b[1m[\u001b[0m\u001b[34;49mnotice\u001b[0m\u001b[1;39;49m]\u001b[0m\u001b[39;49m A new release of pip is available: \u001b[0m\u001b[31;49m24.3.1\u001b[0m\u001b[39;49m -> \u001b[0m\u001b[32;49m25.0.1\u001b[0m\n",
      "\u001b[1m[\u001b[0m\u001b[34;49mnotice\u001b[0m\u001b[1;39;49m]\u001b[0m\u001b[39;49m To update, run: \u001b[0m\u001b[32;49mpip3 install --upgrade pip\u001b[0m\n"
     ]
    }
   ],
   "source": [
    "import sys\n",
    "!{sys.executable} -m pip install https://cdn.evilmadscientist.com/dl/ad/public/AxiDraw_API.zip"
   ]
  },
  {
   "cell_type": "code",
   "execution_count": 2,
   "id": "465a4f7f-2333-4477-8b61-b730d4748bc2",
   "metadata": {},
   "outputs": [],
   "source": [
    "from pyaxidraw import axidraw\n",
    "import vsketch\n",
    "from bezmerizing import Polyline\n",
    "import random"
   ]
  },
  {
   "cell_type": "code",
   "execution_count": 3,
   "id": "b745a9e1-d048-461c-a501-6893037f6ef2",
   "metadata": {},
   "outputs": [],
   "source": [
    "import json"
   ]
  },
  {
   "cell_type": "code",
   "execution_count": 4,
   "id": "f6b02ede-ff35-46ab-9ca8-69ccdb900282",
   "metadata": {},
   "outputs": [],
   "source": [
    "import json"
   ]
  },
  {
   "cell_type": "code",
   "execution_count": 5,
   "id": "5a6dc53c-5ff4-4d73-a73d-7c0e9131a980",
   "metadata": {},
   "outputs": [],
   "source": [
    "all_data = json.load(open(\"./hersheytext.json\"))"
   ]
  },
  {
   "cell_type": "code",
   "execution_count": 6,
   "id": "58e75bf8-6406-4b41-8b8e-09619f57a29f",
   "metadata": {},
   "outputs": [
    {
     "data": {
      "text/plain": [
       "dict_keys(['astrology', 'cursive', 'cyrillic', 'futural', 'futuram', 'gothiceng', 'gothicger', 'gothicita', 'greek', 'japanese', 'markers', 'mathlow', 'mathupp', 'meteorology', 'music', 'scriptc', 'scripts', 'symbolic', 'timesg', 'timesi', 'timesib', 'timesr', 'timesrb'])"
      ]
     },
     "execution_count": 6,
     "metadata": {},
     "output_type": "execute_result"
    }
   ],
   "source": [
    "all_data.keys()"
   ]
  },
  {
   "cell_type": "code",
   "execution_count": 7,
   "id": "6fda51f3-bed2-4384-8b34-d1ad29a42f63",
   "metadata": {},
   "outputs": [],
   "source": [
    "futural = all_data['futural']['chars']"
   ]
  },
  {
   "cell_type": "code",
   "execution_count": 8,
   "id": "e6fe4c79-d452-4efc-9739-2853ff438946",
   "metadata": {},
   "outputs": [],
   "source": [
    "def idx(ch):\n",
    "    return ord(ch) - 33"
   ]
  },
  {
   "cell_type": "code",
   "execution_count": 9,
   "id": "fb611cf5-a502-40fc-9dfa-deda431f8fd6",
   "metadata": {},
   "outputs": [
    {
     "data": {
      "text/plain": [
       "{'d': 'M15,8 L15,24 14,27 13,28 11,29 8,29 6,28 M15,11 L13,9 11,8 8,8 6,9 4,11 3,14 3,16 4,19 6,21 8,22 11,22 13,21 15,19',\n",
       " 'o': 10}"
      ]
     },
     "execution_count": 9,
     "metadata": {},
     "output_type": "execute_result"
    }
   ],
   "source": [
    "futural[idx('g')]"
   ]
  },
  {
   "cell_type": "code",
   "execution_count": 10,
   "id": "9769c157-fb04-4ace-bacd-990ebaeddd33",
   "metadata": {},
   "outputs": [
    {
     "name": "stdout",
     "output_type": "stream",
     "text": [
      "M15,8 L15,22 M15,11 L13,9 11,8 8,8 6,9 4,11 3,14 3,16 4,19 6,21 8,22 11,22 13,21 15,19\n",
      "M8,0\n"
     ]
    }
   ],
   "source": [
    "def dch(font, ch):\n",
    "    if ch == ' ':\n",
    "        return 'M8,0'\n",
    "    else:\n",
    "        return font[idx(ch)]['d']\n",
    "print(dch(futural, 'a'))\n",
    "print(dch(futural, ' '))"
   ]
  },
  {
   "cell_type": "code",
   "execution_count": 11,
   "id": "a04873c7-1eb7-4498-b8d3-1b5dd647351c",
   "metadata": {},
   "outputs": [],
   "source": [
    "import numpy as np\n",
    "def to_plist(font, ch):\n",
    "    plines = []\n",
    "    current_plist = []\n",
    "    mode = ''\n",
    "    for t in dch(font, ch).split():\n",
    "        if t[0] in ('M', 'L'):\n",
    "            mode = t[0]\n",
    "            t = t[1:]\n",
    "        coords = [int(x) for x in t.split(',')]\n",
    "        if mode == 'M':\n",
    "            if len(current_plist) > 0:\n",
    "                plines.append(current_plist)\n",
    "                current_plist = []\n",
    "        current_plist.append(coords)\n",
    "    plines.append(current_plist)\n",
    "    return plines"
   ]
  },
  {
   "cell_type": "code",
   "execution_count": 12,
   "id": "24bbf76e-3a93-46ec-98e8-b842cce3395d",
   "metadata": {},
   "outputs": [
    {
     "data": {
      "text/plain": [
       "[[[3, 8], [14, 22]], [[14, 8], [3, 22]]]"
      ]
     },
     "execution_count": 12,
     "metadata": {},
     "output_type": "execute_result"
    }
   ],
   "source": [
    "x_plist = to_plist(futural, \"x\")\n",
    "x_plist"
   ]
  },
  {
   "cell_type": "code",
   "execution_count": 13,
   "id": "6ed5e5c5-947d-409e-9e27-eb7ea80650ef",
   "metadata": {},
   "outputs": [],
   "source": [
    "sheared_plist = []\n",
    "angle = np.pi * -0.25\n",
    "# iterate over every stroke\n",
    "for pline in to_plist(futural, 'R'):\n",
    "    sheared_stroke = []\n",
    "    # every coordinate in this stroke\n",
    "    for coord in pline:\n",
    "        sheared_stroke.append([coord[0]+angle*coord[1], coord[1]])\n",
    "    # append to the transformed list of polylines\n",
    "    sheared_plist.append(sheared_stroke)"
   ]
  },
  {
   "cell_type": "code",
   "execution_count": 14,
   "id": "43b9d69c-ae39-4544-aec8-014f9578d51a",
   "metadata": {},
   "outputs": [],
   "source": [
    "def str_to_plist(font, s, kern=1):\n",
    "    current_x = 0\n",
    "    all_plines = []\n",
    "    for ch in s:\n",
    "        max_x = 0\n",
    "        for pline in to_plist(font, ch):\n",
    "            # translate to the current position of cursor\n",
    "            translated = [[x+current_x, y] for x, y in pline]\n",
    "            x_extent = max([c[0] for c in pline])\n",
    "            if x_extent > max_x:\n",
    "                max_x = x_extent\n",
    "            all_plines.append(translated)\n",
    "        current_x += max_x + kern\n",
    "    return all_plines"
   ]
  },
  {
   "cell_type": "code",
   "execution_count": 15,
   "id": "83112423-e67d-4379-b032-0c7dd029eaba",
   "metadata": {},
   "outputs": [
    {
     "data": {
      "text/plain": [
       "[[[14, 8], [3, 22]],\n",
       " [[3, 8], [14, 8]],\n",
       " [[3, 22], [14, 22]],\n",
       " [[18, 1], [19, 2], [20, 1], [19, 0], [18, 1]],\n",
       " [[19, 8], [19, 22]],\n",
       " [[26, 1], [26, 18], [27, 21], [29, 22], [31, 22]],\n",
       " [[23, 8], [30, 8]],\n",
       " [[40, 0]],\n",
       " [[46, 1], [46, 18], [47, 21], [49, 22], [51, 22]],\n",
       " [[43, 8], [50, 8]],\n",
       " [[55, 1], [56, 2], [57, 1], [56, 0], [55, 1]],\n",
       " [[56, 8], [56, 22]],\n",
       " [[61, 8], [72, 22]],\n",
       " [[72, 8], [61, 22]]]"
      ]
     },
     "execution_count": 15,
     "metadata": {},
     "output_type": "execute_result"
    }
   ],
   "source": [
    "str_plist = str_to_plist(futural, \"zit tix\")\n",
    "str_plist"
   ]
  },
  {
   "cell_type": "code",
   "execution_count": 16,
   "id": "0afdabd2-451b-43f1-97bb-25382c2dbef6",
   "metadata": {},
   "outputs": [],
   "source": [
    "from itertools import chain\n",
    "def str_to_plist_wrap(font, s, kern=1, lineheight=32, width=360, height=360):\n",
    "    current = [0, 0]\n",
    "    all_plists = []\n",
    "    for word in s.split():\n",
    "        wplist = str_to_plist(font, word, kern)\n",
    "        # flatten the list of strokes to find the biggest X coordinate\n",
    "        wplist_width = max([c[0] for c in chain(*wplist)])\n",
    "        if current[0] + wplist_width > width:\n",
    "            current[1] += lineheight\n",
    "            current[0] = 0\n",
    "        if current[1] > height - lineheight:\n",
    "            break\n",
    "        wplist_translated = []\n",
    "        # translate all polylines\n",
    "        for pline in wplist:\n",
    "            wplist_translated.append(\n",
    "                [[x+current[0], y+current[1]] for x, y in pline])\n",
    "        # add these translated strokes to the big list\n",
    "        all_plists.extend(wplist_translated)\n",
    "        current[0] += wplist_width + 8 # width of space\n",
    "    return all_plists"
   ]
  },
  {
   "cell_type": "markdown",
   "id": "b9ccbb7b-1e0c-4812-9a53-cea3c98b461f",
   "metadata": {},
   "source": [
    "### Changing the parameters to generate a 'bead' by combining the glyphs of both the names"
   ]
  },
  {
   "cell_type": "code",
   "execution_count": 17,
   "id": "5e7af046-bb63-4dd8-b5e0-4fa2fb21e226",
   "metadata": {
    "scrolled": true
   },
   "outputs": [
    {
     "data": {
      "image/png": "[encoded data removed]",
      "text/plain": [
       "<Figure size 640x480 with 1 Axes>"
      ]
     },
     "metadata": {},
     "output_type": "display_data"
    }
   ],
   "source": [
    "chars = 'krishna'\n",
    "chars += chars.lower()\n",
    "chars += 'caroline'\n",
    "all_strokes = []\n",
    "for item in chars:\n",
    "    plist = str_to_plist(futural, item)\n",
    "    for stroke in plist:\n",
    "        if len(stroke) >= 1:\n",
    "            # first half of polyline\n",
    "            all_strokes.append(stroke[:int(len(stroke)/2)])\n",
    "            # second half of polyline\n",
    "            all_strokes.append(stroke[int(len(stroke)/2):])\n",
    "        else:\n",
    "            all_strokes.append(stroke)\n",
    "\n",
    "import random\n",
    "vsk = vsketch.Vsketch()\n",
    "vsk.size(\"250mm\", \"50mm\")\n",
    "vsk.scale(\"1mm\")\n",
    "for i in range(22):\n",
    "    strokes = random.sample(all_strokes, 2)\n",
    "    smooshed = list(chain(*strokes))\n",
    "    with vsk.pushMatrix():\n",
    "        vsk.translate(-50 + i * 3, 0)\n",
    "        vsk.scale(0.5)\n",
    "        vsk.polygon(smooshed)\n",
    "vsk.display()\n",
    "vsk.save(\"k2&caroline2.svg\")"
   ]
  },
  {
   "cell_type": "markdown",
   "id": "011a4990-65ec-4169-9d44-b367f3f2df86",
   "metadata": {},
   "source": [
    "### Generating 2 bands with the string (but only having 1 bead didn't really show the letter combining)"
   ]
  },
  {
   "cell_type": "code",
   "execution_count": 18,
   "id": "3c6a2357-1e95-4ec6-82e4-65f6d285c1d0",
   "metadata": {},
   "outputs": [
    {
     "data": {
      "image/png": "[encoded data removed]",
      "text/plain": [
       "<Figure size 640x480 with 1 Axes>"
      ]
     },
     "metadata": {},
     "output_type": "display_data"
    }
   ],
   "source": [
    "\n",
    "\n",
    "chars = 'krishna'\n",
    "chars += chars.lower()\n",
    "chars += 'caroline'\n",
    "all_strokes = []\n",
    "for item in chars:\n",
    "    plist = str_to_plist(futural, item)\n",
    "    for stroke in plist:\n",
    "        if len(stroke) >= 6:\n",
    "            # first half of polyline\n",
    "            all_strokes.append(stroke[:int(len(stroke)/2)])\n",
    "            # second half of polyline\n",
    "            all_strokes.append(stroke[int(len(stroke)/2):])\n",
    "        else:\n",
    "            all_strokes.append(stroke)\n",
    "\n",
    "import random\n",
    "vsk = vsketch.Vsketch()\n",
    "vsk.size(\"250mm\", \"250mm\")\n",
    "vsk.scale(\"1mm\")\n",
    "for i in range(1):\n",
    "    strokes = random.sample(all_strokes, 2)\n",
    "    smooshed = list(chain(*strokes))\n",
    "    for j in range(21):\n",
    "        with vsk.pushMatrix():\n",
    "            vsk.translate(-40 + j * 3, 80)\n",
    "            vsk.scale(0.5)\n",
    "            vsk.polygon(smooshed)\n",
    "        with vsk.pushMatrix():\n",
    "            vsk.translate(40 + j * 3, -10)\n",
    "            vsk.scale(0.5)\n",
    "            vsk.polygon(smooshed)\n",
    "vsk.display()\n",
    "vsk.save(\"curvyletters.svg\")"
   ]
  },
  {
   "cell_type": "markdown",
   "id": "6c9f0710-3d2a-495c-8088-148ebe64f674",
   "metadata": {},
   "source": [
    "## Changed parameters till i could see a bit of the letters in it"
   ]
  },
  {
   "cell_type": "code",
   "execution_count": 39,
   "id": "1f6736df-40a4-4ede-9da1-f5f7d2cce127",
   "metadata": {},
   "outputs": [
    {
     "data": {
      "image/png": "[encoded data removed]",
      "text/plain": [
       "<Figure size 640x480 with 1 Axes>"
      ]
     },
     "metadata": {},
     "output_type": "display_data"
    }
   ],
   "source": [
    "chars = 'krishna'\n",
    "chars += chars.lower()\n",
    "chars += 'caroline'\n",
    "all_strokes = []\n",
    "for item in chars:\n",
    "    plist = str_to_plist(futural, item)\n",
    "    for stroke in plist:\n",
    "        if len(stroke) >= 6:\n",
    "            # first half of polyline\n",
    "            all_strokes.append(stroke[:int(len(stroke)/2)])\n",
    "            # second half of polyline\n",
    "            all_strokes.append(stroke[int(len(stroke)/2):])\n",
    "        else:\n",
    "            all_strokes.append(stroke)\n",
    "\n",
    "import random\n",
    "vsk = vsketch.Vsketch()\n",
    "vsk.size(\"250mm\", \"250mm\")\n",
    "vsk.scale(\"1mm\")\n",
    "for i in range(3):\n",
    "    strokes = random.sample(all_strokes, 2)\n",
    "    smooshed = list(chain(*strokes))\n",
    "    for j in range(11):\n",
    "        with vsk.pushMatrix():\n",
    "            vsk.translate(-40 + j * 6, 80)\n",
    "            vsk.scale(0.5)\n",
    "            vsk.polygon(smooshed)\n",
    "        with vsk.pushMatrix():\n",
    "            vsk.translate(40 + j * 6, -10)\n",
    "            vsk.scale(0.5)\n",
    "            vsk.polygon(smooshed)\n",
    "vsk.display()\n"
   ]
  },
  {
   "cell_type": "code",
   "execution_count": 20,
   "id": "7f4eff07-9ed6-407a-8269-ed843dcd8b5b",
   "metadata": {},
   "outputs": [],
   "source": [
    "vsk.save(\"k2&me.svg\")"
   ]
  },
  {
   "cell_type": "markdown",
   "id": "34f8a862-0f5a-4dfe-a3a7-14ec7d6c4fbd",
   "metadata": {},
   "source": [
    "## 3 friends"
   ]
  },
  {
   "cell_type": "code",
   "execution_count": 21,
   "id": "9e33ba64-2912-42bd-85e7-dbad1d55072f",
   "metadata": {},
   "outputs": [
    {
     "data": {
      "image/png": "[encoded data removed]",
      "text/plain": [
       "<Figure size 640x480 with 1 Axes>"
      ]
     },
     "metadata": {},
     "output_type": "display_data"
    }
   ],
   "source": [
    "chars = 'krishna'\n",
    "chars += chars.lower()\n",
    "chars += 'caroline'\n",
    "chars += chars.lower()\n",
    "chars += 'siyan'\n",
    "all_strokes = []\n",
    "for item in chars:\n",
    "    plist = str_to_plist(futural, item)\n",
    "    for stroke in plist:\n",
    "        if len(stroke) >= 6:\n",
    "            # first half of polyline\n",
    "            all_strokes.append(stroke[:int(len(stroke)/2)])\n",
    "            # second half of polyline\n",
    "            all_strokes.append(stroke[int(len(stroke)/2):])\n",
    "        else:\n",
    "            all_strokes.append(stroke)\n",
    "\n",
    "import random\n",
    "vsk = vsketch.Vsketch()\n",
    "vsk.size(\"350mm\", \"250mm\")\n",
    "vsk.scale(\"1mm\")\n",
    "for i in range(3):\n",
    "    strokes = random.sample(all_strokes, 2)\n",
    "    smooshed = list(chain(*strokes))\n",
    "    for j in range(11):\n",
    "        with vsk.pushMatrix():\n",
    "            vsk.translate(-80 + j * 6, 80)\n",
    "            vsk.scale(0.5)\n",
    "            vsk.polygon(smooshed)\n",
    "        with vsk.pushMatrix():\n",
    "            vsk.translate(0 + j * 6, -10)\n",
    "            vsk.scale(0.5)\n",
    "            vsk.polygon(smooshed)\n",
    "        with vsk.pushMatrix():\n",
    "            vsk.translate(80 + j * 6, 80)\n",
    "            vsk.scale(0.5)\n",
    "            vsk.polygon(smooshed)\n",
    "vsk.display()\n"
   ]
  },
  {
   "cell_type": "code",
   "execution_count": 22,
   "id": "cc7e7370-cfe9-4675-a901-a6fa5ec8b219",
   "metadata": {},
   "outputs": [],
   "source": [
    "vsk.save(\"k2&me&siyan.svg\")"
   ]
  },
  {
   "cell_type": "markdown",
   "id": "d6660ff3-6c77-463b-b7a9-ece9b280f1e7",
   "metadata": {},
   "source": [
    "## four friends, had to increase the stroke length when number of people increased"
   ]
  },
  {
   "cell_type": "code",
   "execution_count": 23,
   "id": "ea3ce441-bf1c-4998-88c1-fb7b3e30fccf",
   "metadata": {},
   "outputs": [
    {
     "data": {
      "image/png": "[encoded data removed]",
      "text/plain": [
       "<Figure size 640x480 with 1 Axes>"
      ]
     },
     "metadata": {},
     "output_type": "display_data"
    }
   ],
   "source": [
    "chars = 'sidikha'\n",
    "chars += chars.lower()\n",
    "chars += 'caroline'\n",
    "chars += chars.lower()\n",
    "chars += 'joyce'\n",
    "chars += chars.lower()\n",
    "chars += 'nathan'\n",
    "all_strokes = []\n",
    "for item in chars:\n",
    "    plist = str_to_plist(futural, item)\n",
    "    for stroke in plist:\n",
    "        if len(stroke) >= 11:\n",
    "            # first half of polyline\n",
    "            all_strokes.append(stroke[:int(len(stroke)/2)])\n",
    "            # second half of polyline\n",
    "            all_strokes.append(stroke[int(len(stroke)/2):])\n",
    "        else:\n",
    "            all_strokes.append(stroke)\n",
    "\n",
    "import random\n",
    "vsk = vsketch.Vsketch()\n",
    "vsk.size(\"400mm\", \"250mm\")\n",
    "vsk.scale(\"1mm\")\n",
    "for i in range(2):\n",
    "    strokes = random.sample(all_strokes, 2)\n",
    "    smooshed = list(chain(*strokes))\n",
    "    for j in range(8):\n",
    "        with vsk.pushMatrix():\n",
    "            vsk.translate(-140 + j * 7, 80)\n",
    "            vsk.scale(0.5)\n",
    "            vsk.polygon(smooshed)\n",
    "        with vsk.pushMatrix():\n",
    "            vsk.translate(-60 + j * 7, -10)\n",
    "            vsk.scale(0.5)\n",
    "            vsk.polygon(smooshed)\n",
    "        with vsk.pushMatrix():\n",
    "            vsk.translate(20 + j * 7, 80)\n",
    "            vsk.scale(0.5)\n",
    "            vsk.polygon(smooshed)\n",
    "        with vsk.pushMatrix():\n",
    "            vsk.translate(100 + j * 7, -10)\n",
    "            vsk.scale(0.5)\n",
    "            vsk.polygon(smooshed)\n",
    "vsk.display()"
   ]
  },
  {
   "cell_type": "code",
   "execution_count": 24,
   "id": "46834a91-64a1-4201-a1ea-520770c788c2",
   "metadata": {},
   "outputs": [],
   "source": [
    "vsk.save(\"sid-car-joy-nat.svg\")"
   ]
  },
  {
   "cell_type": "markdown",
   "id": "2abbb33f-6cee-48f9-994b-719ea8729d28",
   "metadata": {},
   "source": [
    "## five friends"
   ]
  },
  {
   "cell_type": "code",
   "execution_count": 25,
   "id": "fc4287e8-f2c6-4f61-a860-c06b6dbf07f9",
   "metadata": {
    "scrolled": true
   },
   "outputs": [
    {
     "data": {
      "image/png": "[encoded data removed]",
      "text/plain": [
       "<Figure size 640x480 with 1 Axes>"
      ]
     },
     "metadata": {},
     "output_type": "display_data"
    }
   ],
   "source": [
    "chars = 'sidikha'\n",
    "chars += chars.lower()\n",
    "chars += 'caroline'\n",
    "chars += chars.lower()\n",
    "chars += 'joyce'\n",
    "chars += chars.lower()\n",
    "chars += 'nathan'\n",
    "chars += chars.lower()\n",
    "chars += 'isabel'\n",
    "all_strokes = []\n",
    "for item in chars:\n",
    "    plist = str_to_plist(futural, item)\n",
    "    for stroke in plist:\n",
    "        if len(stroke) >= 11:\n",
    "            # first half of polyline\n",
    "            all_strokes.append(stroke[:int(len(stroke)/2)])\n",
    "            # second half of polyline\n",
    "            all_strokes.append(stroke[int(len(stroke)/2):])\n",
    "        else:\n",
    "            all_strokes.append(stroke)\n",
    "\n",
    "import random\n",
    "vsk = vsketch.Vsketch()\n",
    "vsk.size(\"450mm\", \"250mm\")\n",
    "vsk.scale(\"1mm\")\n",
    "for i in range(2):\n",
    "    strokes = random.sample(all_strokes, 2)\n",
    "    smooshed = list(chain(*strokes))\n",
    "    for j in range(8):\n",
    "        with vsk.pushMatrix():\n",
    "            vsk.translate(-140 + j * 7, 80)\n",
    "            vsk.scale(0.5)\n",
    "            vsk.polygon(smooshed)\n",
    "        with vsk.pushMatrix():\n",
    "            vsk.translate(-60 + j * 7, -10)\n",
    "            vsk.scale(0.5)\n",
    "            vsk.polygon(smooshed)\n",
    "        with vsk.pushMatrix():\n",
    "            vsk.translate(20 + j * 7, 80)\n",
    "            vsk.scale(0.5)\n",
    "            vsk.polygon(smooshed)\n",
    "        with vsk.pushMatrix():\n",
    "            vsk.translate(100 + j * 7, -10)\n",
    "            vsk.scale(0.5)\n",
    "            vsk.polygon(smooshed)\n",
    "        with vsk.pushMatrix():\n",
    "            vsk.translate(180 + j * 7, 80)\n",
    "            vsk.scale(0.5)\n",
    "            vsk.polygon(smooshed)\n",
    "vsk.display()"
   ]
  },
  {
   "cell_type": "code",
   "execution_count": 26,
   "id": "3095e024-ac65-46d6-b764-7221d83ad250",
   "metadata": {},
   "outputs": [],
   "source": [
    "vsk.save(\"sid-car-joy-nat-isa2.svg\")"
   ]
  },
  {
   "cell_type": "markdown",
   "id": "5877ffe9-47c5-4a6d-b303-87fffe169271",
   "metadata": {},
   "source": [
    "## Experimented with different font styles "
   ]
  },
  {
   "cell_type": "code",
   "execution_count": 27,
   "id": "1ef4f39f-42f0-412d-a96c-3b86de991581",
   "metadata": {},
   "outputs": [
    {
     "data": {
      "text/plain": [
       "dict_keys(['astrology', 'cursive', 'cyrillic', 'futural', 'futuram', 'gothiceng', 'gothicger', 'gothicita', 'greek', 'japanese', 'markers', 'mathlow', 'mathupp', 'meteorology', 'music', 'scriptc', 'scripts', 'symbolic', 'timesg', 'timesi', 'timesib', 'timesr', 'timesrb'])"
      ]
     },
     "execution_count": 27,
     "metadata": {},
     "output_type": "execute_result"
    }
   ],
   "source": [
    "all_data.keys()"
   ]
  },
  {
   "cell_type": "markdown",
   "id": "35e33064-dc6a-4307-a156-91955d663166",
   "metadata": {},
   "source": [
    "## timesrb"
   ]
  },
  {
   "cell_type": "code",
   "execution_count": 28,
   "id": "75d4b9d4-9b5b-4d65-a7cf-723034918a48",
   "metadata": {},
   "outputs": [],
   "source": [
    "futural5 = all_data['timesrb']['chars']"
   ]
  },
  {
   "cell_type": "code",
   "execution_count": 29,
   "id": "77ecc21c-4e08-49fe-bb16-32fe3289260a",
   "metadata": {},
   "outputs": [
    {
     "data": {
      "image/png": "[encoded data removed]",
      "text/plain": [
       "<Figure size 640x480 with 1 Axes>"
      ]
     },
     "metadata": {},
     "output_type": "display_data"
    }
   ],
   "source": [
    "#'symbolic', 'timesg', 'timesi', 'timesib', 'timesr', 'timesrb'\n",
    "\n",
    "chars = 'krishna'\n",
    "chars += chars.lower()\n",
    "chars += 'caroline'\n",
    "all_strokes = []\n",
    "for item in chars:\n",
    "    plist = str_to_plist(futural5, item)\n",
    "    for stroke in plist:\n",
    "        if len(stroke) >= 6:\n",
    "            # first half of polyline\n",
    "            all_strokes.append(stroke[:int(len(stroke)/2)])\n",
    "            # second half of polyline\n",
    "            all_strokes.append(stroke[int(len(stroke)/2):])\n",
    "        else:\n",
    "            all_strokes.append(stroke)\n",
    "\n",
    "import random\n",
    "vsk = vsketch.Vsketch()\n",
    "vsk.size(\"250mm\", \"50mm\")\n",
    "vsk.scale(\"1mm\")\n",
    "for i in range(3):\n",
    "    strokes = random.sample(all_strokes, 2)\n",
    "    smooshed = list(chain(*strokes))\n",
    "    for j in range(11):\n",
    "        with vsk.pushMatrix():\n",
    "            vsk.translate(-40 + j * 6, 80)\n",
    "            vsk.scale(0.5)\n",
    "            vsk.polygon(smooshed)\n",
    "vsk.display()"
   ]
  },
  {
   "cell_type": "markdown",
   "id": "3841cb7c-c80d-4aee-bde6-1c8f1dd894f1",
   "metadata": {},
   "source": [
    "## scriptc (reminds me of the ones we had as a kid)"
   ]
  },
  {
   "cell_type": "code",
   "execution_count": 30,
   "id": "775cbe07-6a1a-4298-a0c1-bfbe6bfe60a7",
   "metadata": {},
   "outputs": [],
   "source": [
    "futural4 = all_data['scriptc']['chars']"
   ]
  },
  {
   "cell_type": "code",
   "execution_count": 31,
   "id": "25af035c-3e84-4fd7-859b-2278133e957e",
   "metadata": {},
   "outputs": [
    {
     "data": {
      "image/png": "[encoded data removed]",
      "text/plain": [
       "<Figure size 640x480 with 1 Axes>"
      ]
     },
     "metadata": {},
     "output_type": "display_data"
    }
   ],
   "source": [
    "chars = 'krishna'\n",
    "chars += chars.lower()\n",
    "chars += 'caroline'\n",
    "all_strokes = []\n",
    "for item in chars:\n",
    "    plist = str_to_plist(futural4, item)\n",
    "    for stroke in plist:\n",
    "        if len(stroke) >= 6:\n",
    "            # first half of polyline\n",
    "            all_strokes.append(stroke[:int(len(stroke)/2)])\n",
    "            # second half of polyline\n",
    "            all_strokes.append(stroke[int(len(stroke)/2):])\n",
    "        else:\n",
    "            all_strokes.append(stroke)\n",
    "\n",
    "import random\n",
    "vsk = vsketch.Vsketch()\n",
    "vsk.size(\"250mm\", \"50mm\")\n",
    "vsk.scale(\"1mm\")\n",
    "for i in range(3):\n",
    "    strokes = random.sample(all_strokes, 2)\n",
    "    smooshed = list(chain(*strokes))\n",
    "    for j in range(11):\n",
    "        with vsk.pushMatrix():\n",
    "            vsk.translate(-40 + j * 6, 80)\n",
    "            vsk.scale(0.5)\n",
    "            vsk.polygon(smooshed)\n",
    "vsk.display()"
   ]
  },
  {
   "cell_type": "markdown",
   "id": "0641539a-7833-48df-b144-ef3c0030ba1a",
   "metadata": {},
   "source": [
    "## mathupp"
   ]
  },
  {
   "cell_type": "code",
   "execution_count": 32,
   "id": "24e106b2-5035-4b56-bbc9-7f3e780dff8e",
   "metadata": {},
   "outputs": [],
   "source": [
    "futural3 = all_data['mathupp']['chars']"
   ]
  },
  {
   "cell_type": "code",
   "execution_count": 33,
   "id": "4cf52d7f-b392-462b-bcdb-0578e9b179ca",
   "metadata": {},
   "outputs": [
    {
     "data": {
      "image/png": "[encoded data removed]",
      "text/plain": [
       "<Figure size 640x480 with 1 Axes>"
      ]
     },
     "metadata": {},
     "output_type": "display_data"
    }
   ],
   "source": [
    "chars = 'krishna'\n",
    "chars += chars.lower()\n",
    "chars += 'caroline'\n",
    "all_strokes = []\n",
    "for item in chars:\n",
    "    plist = str_to_plist(futural3, item)\n",
    "    for stroke in plist:\n",
    "        if len(stroke) >= 6:\n",
    "            # first half of polyline\n",
    "            all_strokes.append(stroke[:int(len(stroke)/2)])\n",
    "            # second half of polyline\n",
    "            all_strokes.append(stroke[int(len(stroke)/2):])\n",
    "        else:\n",
    "            all_strokes.append(stroke)\n",
    "\n",
    "import random\n",
    "vsk = vsketch.Vsketch()\n",
    "vsk.size(\"250mm\", \"50mm\")\n",
    "vsk.scale(\"1mm\")\n",
    "for i in range(3):\n",
    "    strokes = random.sample(all_strokes, 2)\n",
    "    smooshed = list(chain(*strokes))\n",
    "    for j in range(11):\n",
    "        with vsk.pushMatrix():\n",
    "            vsk.translate(-40 + j * 6, 80)\n",
    "            vsk.scale(0.5)\n",
    "            vsk.polygon(smooshed)\n",
    "vsk.display()"
   ]
  },
  {
   "cell_type": "markdown",
   "id": "6c905631-40e4-4622-8f73-ef935198a35b",
   "metadata": {},
   "source": [
    "## gothicger"
   ]
  },
  {
   "cell_type": "code",
   "execution_count": 34,
   "id": "4f52e9a2-ad97-41d2-8dd6-32af5a18cbde",
   "metadata": {},
   "outputs": [],
   "source": [
    "futural2 = all_data['gothicger']['chars']"
   ]
  },
  {
   "cell_type": "code",
   "execution_count": 35,
   "id": "1b2722ad-e34d-4d5d-8954-de18c960fe1b",
   "metadata": {},
   "outputs": [
    {
     "data": {
      "image/png": "[encoded data removed]",
      "text/plain": [
       "<Figure size 640x480 with 1 Axes>"
      ]
     },
     "metadata": {},
     "output_type": "display_data"
    }
   ],
   "source": [
    "chars = 'krishna'\n",
    "chars += chars.lower()\n",
    "chars += 'caroline'\n",
    "all_strokes = []\n",
    "for item in chars:\n",
    "    plist = str_to_plist(futural2, item)\n",
    "    for stroke in plist:\n",
    "        if len(stroke) >= 6:\n",
    "            # first half of polyline\n",
    "            all_strokes.append(stroke[:int(len(stroke)/2)])\n",
    "            # second half of polyline\n",
    "            all_strokes.append(stroke[int(len(stroke)/2):])\n",
    "        else:\n",
    "            all_strokes.append(stroke)\n",
    "\n",
    "import random\n",
    "vsk = vsketch.Vsketch()\n",
    "vsk.size(\"250mm\", \"50mm\")\n",
    "vsk.scale(\"1mm\")\n",
    "for i in range(3):\n",
    "    strokes = random.sample(all_strokes, 2)\n",
    "    smooshed = list(chain(*strokes))\n",
    "    for j in range(11):\n",
    "        with vsk.pushMatrix():\n",
    "            vsk.translate(-40 + j * 6, 80)\n",
    "            vsk.scale(0.5)\n",
    "            vsk.polygon(smooshed)\n",
    "vsk.display()"
   ]
  },
  {
   "cell_type": "markdown",
   "id": "6c3caf2f-f67e-4236-bbb9-b1908a0da925",
   "metadata": {},
   "source": [
    "## cyrillic"
   ]
  },
  {
   "cell_type": "code",
   "execution_count": 36,
   "id": "8b1dc0dc-d8d8-4f35-93ef-80861c485a13",
   "metadata": {},
   "outputs": [],
   "source": [
    "futural1 = all_data['cyrillic']['chars']"
   ]
  },
  {
   "cell_type": "code",
   "execution_count": 37,
   "id": "8c097806-3396-49c8-835c-ee90987f99cb",
   "metadata": {},
   "outputs": [
    {
     "data": {
      "image/png": "[encoded data removed]",
      "text/plain": [
       "<Figure size 640x480 with 1 Axes>"
      ]
     },
     "metadata": {},
     "output_type": "display_data"
    }
   ],
   "source": [
    "chars = 'krishna'\n",
    "chars += chars.lower()\n",
    "chars += 'caroline'\n",
    "all_strokes = []\n",
    "for item in chars:\n",
    "    plist = str_to_plist(futural1, item)\n",
    "    for stroke in plist:\n",
    "        if len(stroke) >= 6:\n",
    "            # first half of polyline\n",
    "            all_strokes.append(stroke[:int(len(stroke)/2)])\n",
    "            # second half of polyline\n",
    "            all_strokes.append(stroke[int(len(stroke)/2):])\n",
    "        else:\n",
    "            all_strokes.append(stroke)\n",
    "\n",
    "import random\n",
    "vsk = vsketch.Vsketch()\n",
    "vsk.size(\"250mm\", \"50mm\")\n",
    "vsk.scale(\"1mm\")\n",
    "for i in range(3):\n",
    "    strokes = random.sample(all_strokes, 2)\n",
    "    smooshed = list(chain(*strokes))\n",
    "    for j in range(11):\n",
    "        with vsk.pushMatrix():\n",
    "            vsk.translate(-40 + j * 6, 80)\n",
    "            vsk.scale(0.5)\n",
    "            vsk.polygon(smooshed)\n",
    "vsk.display()"
   ]
  }
 ],
 "metadata": {
  "kernelspec": {
   "display_name": "Python 3 (ipykernel)",
   "language": "python",
   "name": "python3"
  },
  "language_info": {
   "codemirror_mode": {
    "name": "ipython",
    "version": 3
   },
   "file_extension": ".py",
   "mimetype": "text/x-python",
   "name": "python",
   "nbconvert_exporter": "python",
   "pygments_lexer": "ipython3",
   "version": "3.13.2"
  }
 },
 "nbformat": 4,
 "nbformat_minor": 5
}
